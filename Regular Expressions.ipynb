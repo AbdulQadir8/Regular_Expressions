{
 "cells": [
  {
   "cell_type": "code",
   "execution_count": 1,
   "id": "b7c05edb",
   "metadata": {},
   "outputs": [],
   "source": [
    "import re\n",
    "import pandas"
   ]
  },
  {
   "cell_type": "code",
   "execution_count": 15,
   "id": "0592f107",
   "metadata": {},
   "outputs": [],
   "source": [
    "text = \"\"\"\n",
    "ITEM 3. QUANTITATIVE AND QUALITATIVE DISCLOSURES ABOUT MARKET RISK\n",
    "Foreign Currency Risk\n",
    "We transact business globally in multiple currencies and hence have foreign currency risks related to our revenue, costs of revenue, operating\n",
    "expenses and localized subsidiary debt denominated in currencies other than the U.S. dollar (primarily the Chinese yuan, euro, Norwegian krone and\n",
    "Canadian dollar in relation to our current year operations). In general, we are a net receiver of currencies other than the U.S. dollar for our foreign\n",
    "subsidiaries. Accordingly, changes in exchange rates affect our revenue and other operating results as expressed in U.S. dollars as we do not typically\n",
    "hedge foreign currency risk.\n",
    "We have also experienced, and will continue to experience, fluctuations in our net income as a result of gains (losses) on the settlement and the\n",
    "re-measurement of monetary assets and liabilities denominated in currencies that are not the local currency (primarily consisting of our intercompany\n",
    "and cash and cash equivalents balances). For the nine months ended September 30, 2021, we recognized a net foreign currency gain of $43 million in\n",
    "Other income (expense), net, with our largest re-measurement exposures from the U.S. dollar, Chinese yuan and Canadian dollar as our subsidiaries’ monetary assets and liabilities are denominated in various local currencies. For the nine months ended September 30, 2020, we recognized a net\n",
    "foreign currency loss of $144 million in Other income (expense), net, with our largest re-measurement exposures from the U.S. dollar, euro and Chinese\n",
    "yuan.\n",
    "We considered the historical trends in foreign currency exchange rates and determined that it is reasonably possible that adverse changes in\n",
    "foreign currency exchange rates of 10% for all currencies could be experienced in the near-term. These changes were applied to our total monetary\n",
    "assets and liabilities denominated in currencies other than our local currencies at the balance sheet date to compute the impact these changes would\n",
    "have had on our net income before income taxes. These changes would have resulted in a loss of $162 million at September 30, 2021 and $8 million at\n",
    "December 31, 2020 assuming no foreign currency hedging.\n",
    "Interest Rate Risk\n",
    "We are exposed to interest rate risk on our borrowings that bear interest at floating rates. Pursuant to our risk management policies, in certain\n",
    "cases, we utilize derivative instruments to manage some of this risk. We do not enter into derivative instruments for trading or speculative purposes. A\n",
    "hypothetical 10% change in interest rates on our floating rate debt would have increased or decreased our interest expense for the nine months ended\n",
    "September 30, 2021 and 2020 by $1 million and $4 million, respectively.\n",
    "ITEM 44. CONTROLS AND PROCEDURES\n",
    "Evaluation of Disclosure Controls and Procedures\n",
    "Our management, with the participation of our Chief Executive Officer and our Chief Financial Officer, evaluated the effectiveness of our\n",
    "disclosure controls and procedures pursuant to Rule 13a-15 under the Securities Exchange Act of 1934, as amended (the “Exchange Act”). In designing\n",
    "and evaluating the disclosure controls and procedures, our management recognizes that any controls and procedures, no matter how well designed and\n",
    "operated, can provide only reasonable assurance of achieving the desired control objectives. In addition, the design of disclosure controls and\n",
    "procedures must reflect the fact that there are resource constraints and that our management is required to apply its judgment in evaluating the\n",
    "benefits of possible controls and procedures relative to their costs.\n",
    "Based on this evaluation, our Chief Executive Officer and our Chief Financial Officer concluded that, as of September 30, 2021, our disclosure\n",
    "controls and procedures were designed at a reasonable assurance level and were effective to provide reasonable assurance that the information we are\n",
    "required to disclose in reports that we file or submit under the Exchange Act is recorded, processed, summarized and reported within the time periods\n",
    "specified in the SEC rules and forms, and that such information is accumulated and communicated to our management, including our Chief Executive\n",
    "Officer and our Chief Financial Officer, as appropriate, to allow timely decisions regarding required disclosures.\n",
    "\"\"\""
   ]
  },
  {
   "cell_type": "code",
   "execution_count": null,
   "id": "23e6a191",
   "metadata": {},
   "outputs": [],
   "source": [
    "# Title Extraction method no.1"
   ]
  },
  {
   "cell_type": "code",
   "execution_count": 16,
   "id": "3d065f6a",
   "metadata": {},
   "outputs": [],
   "source": [
    "pattern = \"ITEM \\d*. [^\\n]+\""
   ]
  },
  {
   "cell_type": "code",
   "execution_count": 17,
   "id": "6f5265ba",
   "metadata": {},
   "outputs": [],
   "source": [
    "titles = re.findall(pattern,text)"
   ]
  },
  {
   "cell_type": "code",
   "execution_count": 18,
   "id": "6fa434d1",
   "metadata": {},
   "outputs": [
    {
     "data": {
      "text/plain": [
       "['ITEM 3. QUANTITATIVE AND QUALITATIVE DISCLOSURES ABOUT MARKET RISK',\n",
       " 'ITEM 44. CONTROLS AND PROCEDURES']"
      ]
     },
     "execution_count": 18,
     "metadata": {},
     "output_type": "execute_result"
    }
   ],
   "source": [
    "titles"
   ]
  },
  {
   "cell_type": "code",
   "execution_count": null,
   "id": "ae334d39",
   "metadata": {},
   "outputs": [],
   "source": [
    "# Title Extraction method no.2"
   ]
  },
  {
   "cell_type": "code",
   "execution_count": 24,
   "id": "b3820e35",
   "metadata": {},
   "outputs": [],
   "source": [
    "pattern2 = \"ITEM \\d*. ([^\\n]+)\""
   ]
  },
  {
   "cell_type": "code",
   "execution_count": 25,
   "id": "dfb0dce9",
   "metadata": {},
   "outputs": [],
   "source": [
    "titles2 = re.findall(pattern2,text)"
   ]
  },
  {
   "cell_type": "code",
   "execution_count": 26,
   "id": "1b21f44b",
   "metadata": {},
   "outputs": [
    {
     "data": {
      "text/plain": [
       "['QUANTITATIVE AND QUALITATIVE DISCLOSURES ABOUT MARKET RISK',\n",
       " 'CONTROLS AND PROCEDURES']"
      ]
     },
     "execution_count": 26,
     "metadata": {},
     "output_type": "execute_result"
    }
   ],
   "source": [
    "titles2"
   ]
  },
  {
   "cell_type": "markdown",
   "id": "e5452d77",
   "metadata": {},
   "source": [
    "# Extract financial periods from a company's financial reporting and values"
   ]
  },
  {
   "cell_type": "code",
   "execution_count": 27,
   "id": "87910923",
   "metadata": {},
   "outputs": [],
   "source": [
    "text2 = \"\"\"\n",
    "The gross cost of operating lease vechiles in FY2021 Q1 was $4.85 billion.\n",
    "In pervious quarter i.e. FY2020 Q4 it was $3 billion.\n",
    "\"\"\""
   ]
  },
  {
   "cell_type": "code",
   "execution_count": 30,
   "id": "aa5ca706",
   "metadata": {},
   "outputs": [],
   "source": [
    "# Methods One"
   ]
  },
  {
   "cell_type": "code",
   "execution_count": 28,
   "id": "50bc139e",
   "metadata": {},
   "outputs": [],
   "source": [
    "pattern = \"FY\\d{4} Q[1-4]\""
   ]
  },
  {
   "cell_type": "code",
   "execution_count": 29,
   "id": "5a5bf3b3",
   "metadata": {},
   "outputs": [
    {
     "data": {
      "text/plain": [
       "['FY2021 Q1', 'FY2020 Q4']"
      ]
     },
     "execution_count": 29,
     "metadata": {},
     "output_type": "execute_result"
    }
   ],
   "source": [
    "periods = re.findall(pattern,text2)\n",
    "periods"
   ]
  },
  {
   "cell_type": "code",
   "execution_count": 31,
   "id": "9f19cea3",
   "metadata": {},
   "outputs": [],
   "source": [
    "# Case Sensitive"
   ]
  },
  {
   "cell_type": "code",
   "execution_count": 36,
   "id": "7768d518",
   "metadata": {},
   "outputs": [],
   "source": [
    "text3 = \"\"\"\n",
    "The gross cost of operating lease vechiles in FY2021 Q1 was $4.85 billion.\n",
    "In pervious quarter i.e. fy2020 Q4 it was $3 billion.\n",
    "\"\"\""
   ]
  },
  {
   "cell_type": "code",
   "execution_count": 37,
   "id": "af61b7a1",
   "metadata": {},
   "outputs": [],
   "source": [
    "periods2 = re.findall(pattern,text3,flags=re.IGNORECASE)"
   ]
  },
  {
   "cell_type": "code",
   "execution_count": 38,
   "id": "9f586833",
   "metadata": {},
   "outputs": [
    {
     "data": {
      "text/plain": [
       "['FY2021 Q1', 'fy2020 Q4']"
      ]
     },
     "execution_count": 38,
     "metadata": {},
     "output_type": "execute_result"
    }
   ],
   "source": [
    "periods2"
   ]
  },
  {
   "cell_type": "code",
   "execution_count": 39,
   "id": "bc602626",
   "metadata": {},
   "outputs": [],
   "source": [
    "# Extract only year and quarter number"
   ]
  },
  {
   "cell_type": "code",
   "execution_count": 40,
   "id": "8c69ebd9",
   "metadata": {},
   "outputs": [],
   "source": [
    "pattern = \"FY(\\d{4} Q[1-4])\""
   ]
  },
  {
   "cell_type": "code",
   "execution_count": 43,
   "id": "7dbaa9a5",
   "metadata": {},
   "outputs": [],
   "source": [
    "periods3 = re.findall(pattern,text2)"
   ]
  },
  {
   "cell_type": "code",
   "execution_count": 44,
   "id": "b441bd10",
   "metadata": {},
   "outputs": [
    {
     "data": {
      "text/plain": [
       "['2021 Q1', '2020 Q4']"
      ]
     },
     "execution_count": 44,
     "metadata": {},
     "output_type": "execute_result"
    }
   ],
   "source": [
    "periods3"
   ]
  },
  {
   "cell_type": "code",
   "execution_count": 45,
   "id": "1ad7a82a",
   "metadata": {},
   "outputs": [],
   "source": [
    "# Lets Extract Actual Numbers"
   ]
  },
  {
   "cell_type": "code",
   "execution_count": 46,
   "id": "9789b317",
   "metadata": {},
   "outputs": [],
   "source": [
    " text4 = \"\"\"\"The gross cost of operating lease vechiles in FY2021 Q1 was $4.85 billion.\n",
    "         Tesla's employee count is 500 In pervious quarter i.e. FY2020 Q4 it was $3 billion.\"\"\""
   ]
  },
  {
   "cell_type": "code",
   "execution_count": 53,
   "id": "5f1160e6",
   "metadata": {},
   "outputs": [],
   "source": [
    "# pattern = \"\\$[\\d\\.]+\" #pattern#1\n",
    "pattern = \"\\$[0-9\\.]+\" #pattern#2"
   ]
  },
  {
   "cell_type": "code",
   "execution_count": 54,
   "id": "a3968f40",
   "metadata": {},
   "outputs": [],
   "source": [
    "revenue = re.findall(pattern,text4)"
   ]
  },
  {
   "cell_type": "code",
   "execution_count": 55,
   "id": "61327341",
   "metadata": {},
   "outputs": [
    {
     "data": {
      "text/plain": [
       "['$4.85', '$3']"
      ]
     },
     "execution_count": 55,
     "metadata": {},
     "output_type": "execute_result"
    }
   ],
   "source": [
    "revenue"
   ]
  },
  {
   "cell_type": "code",
   "execution_count": 58,
   "id": "8213f03e",
   "metadata": {},
   "outputs": [],
   "source": [
    "# Without Dollar sign"
   ]
  },
  {
   "cell_type": "code",
   "execution_count": 59,
   "id": "bd05de78",
   "metadata": {},
   "outputs": [],
   "source": [
    "text4 = \"\"\"\"The gross cost of operating lease vechiles in FY2021 Q1 was $4.85 billion.\n",
    "         Tesla's employee count is 500 In pervious quarter i.e. FY2020 Q4 it was $3 billion.\"\"\""
   ]
  },
  {
   "cell_type": "code",
   "execution_count": 63,
   "id": "9ad529bb",
   "metadata": {},
   "outputs": [],
   "source": [
    "# pattern = \"\\$[\\d\\.]+\" #pattern#1\n",
    "pattern = \"\\$([0-9\\.]+)\" #pattern#2"
   ]
  },
  {
   "cell_type": "code",
   "execution_count": 64,
   "id": "3c28e394",
   "metadata": {},
   "outputs": [],
   "source": [
    "revenue = re.findall(pattern,text4)"
   ]
  },
  {
   "cell_type": "code",
   "execution_count": 65,
   "id": "9f7e3408",
   "metadata": {},
   "outputs": [
    {
     "data": {
      "text/plain": [
       "['4.85', '3']"
      ]
     },
     "execution_count": 65,
     "metadata": {},
     "output_type": "execute_result"
    }
   ],
   "source": [
    "revenue"
   ]
  },
  {
   "cell_type": "code",
   "execution_count": 66,
   "id": "45fc5226",
   "metadata": {},
   "outputs": [],
   "source": [
    "# Now extracting both "
   ]
  },
  {
   "cell_type": "code",
   "execution_count": 71,
   "id": "707a3fec",
   "metadata": {},
   "outputs": [],
   "source": [
    "text4 = \"\"\"\"The gross cost of operating lease vechiles in FY2021 Q1 was $4.85 billion.\n",
    "         Tesla's employee count is 500 In pervious quarter i.e. FY2020 Q4 it was $3 billion.\"\"\""
   ]
  },
  {
   "cell_type": "code",
   "execution_count": 72,
   "id": "1e33ca97",
   "metadata": {},
   "outputs": [],
   "source": [
    "pattern = \"FY(\\d{4} Q[1-4])[^\\$]+\\$([0-9\\.]+)\""
   ]
  },
  {
   "cell_type": "code",
   "execution_count": 73,
   "id": "7f89b88f",
   "metadata": {},
   "outputs": [],
   "source": [
    "revenue = re.findall(pattern,text4)"
   ]
  },
  {
   "cell_type": "code",
   "execution_count": 74,
   "id": "ac45aac6",
   "metadata": {},
   "outputs": [
    {
     "data": {
      "text/plain": [
       "[('2021 Q1', '4.85'), ('2020 Q4', '3')]"
      ]
     },
     "execution_count": 74,
     "metadata": {},
     "output_type": "execute_result"
    }
   ],
   "source": [
    "revenue"
   ]
  },
  {
   "cell_type": "markdown",
   "id": "9c91ace0",
   "metadata": {},
   "source": [
    "# Search Function"
   ]
  },
  {
   "cell_type": "code",
   "execution_count": 76,
   "id": "482afb2b",
   "metadata": {},
   "outputs": [],
   "source": [
    "# it will search for the first occurence"
   ]
  },
  {
   "cell_type": "code",
   "execution_count": 86,
   "id": "184f0a6c",
   "metadata": {},
   "outputs": [],
   "source": [
    "text4 = \"\"\"\"The gross cost of operating lease vechiles in FY2021 Q1 was $4.85 billion.\n",
    "         Tesla's employee count is 500 In pervious quarter i.e. FY2020 Q4 it was $3 billion.\"\"\""
   ]
  },
  {
   "cell_type": "code",
   "execution_count": 87,
   "id": "ceeee8f4",
   "metadata": {},
   "outputs": [],
   "source": [
    "pattern = \"FY(\\d{4} Q[1-4])[^\\$]+\\$([0-9\\.]+)\""
   ]
  },
  {
   "cell_type": "code",
   "execution_count": 88,
   "id": "c136b53d",
   "metadata": {},
   "outputs": [],
   "source": [
    "revenue = re.search(pattern,text4)"
   ]
  },
  {
   "cell_type": "code",
   "execution_count": 89,
   "id": "64abaa8f",
   "metadata": {},
   "outputs": [
    {
     "data": {
      "text/plain": [
       "<re.Match object; span=(47, 66), match='FY2021 Q1 was $4.85'>"
      ]
     },
     "execution_count": 89,
     "metadata": {},
     "output_type": "execute_result"
    }
   ],
   "source": [
    "revenue"
   ]
  },
  {
   "cell_type": "code",
   "execution_count": 91,
   "id": "f7026a05",
   "metadata": {},
   "outputs": [
    {
     "data": {
      "text/plain": [
       "('2021 Q1', '4.85')"
      ]
     },
     "execution_count": 91,
     "metadata": {},
     "output_type": "execute_result"
    }
   ],
   "source": [
    "revenue.groups()"
   ]
  },
  {
   "cell_type": "markdown",
   "id": "9493c2dc",
   "metadata": {},
   "source": [
    "# Python Regular Expression Tutorial Exericse"
   ]
  },
  {
   "cell_type": "markdown",
   "id": "81fab05b",
   "metadata": {},
   "source": [
    "#### 1. Extract all twitter handles from following text. Twitter handle is the text that appears after https://twitter.com/ and is a single word. Also it contains only alpha numeric characters i.e. A-Z a-z , o to 9 and underscore _"
   ]
  },
  {
   "cell_type": "markdown",
   "id": "c1780aba",
   "metadata": {},
   "source": [
    "### 2. Extract Concentration Risk Types. It will be a text that appears after \"Concentration Risk:\", In below example, your regex should extract these two strings"
   ]
  },
  {
   "cell_type": "markdown",
   "id": "e571c7ff",
   "metadata": {},
   "source": [
    "(1) Credit Risk\n",
    "\n",
    "(2) Supply Rish"
   ]
  },
  {
   "cell_type": "code",
   "execution_count": 7,
   "id": "3b732fdc",
   "metadata": {},
   "outputs": [],
   "source": [
    "text = '''\n",
    "Concentration of Risk: Credit Risk\n",
    "Financial instruments that potentially subject us to a concentration of credit risk consist of cash, cash equivalents, marketable securities,\n",
    "restricted cash, accounts receivable, convertible note hedges, and interest rate swaps. Our cash balances are primarily invested in money market funds\n",
    "or on deposit at high credit quality financial institutions in the U.S. These deposits are typically in excess of insured limits. As of September 30, 2021\n",
    "and December 31, 2020, no entity represented 10% or more of our total accounts receivable balance. The risk of concentration for our convertible note\n",
    "hedges and interest rate swaps is mitigated by transacting with several highly-rated multinational banks.\n",
    "Concentration of Risk: Supply Risk\n",
    "We are dependent on our suppliers, including single source suppliers, and the inability of these suppliers to deliver necessary components of our\n",
    "products in a timely manner at prices, quality levels and volumes acceptable to us, or our inability to efficiently manage these components from these\n",
    "suppliers, could have a material adverse effect on our business, prospects, financial condition and operating results.\n",
    "'''\n",
    "pattern = 'Concentration of Risk:([^\\n]+)' # todo: type your regex here\n",
    "\n",
    "risk_type = re.findall(pattern, text)"
   ]
  },
  {
   "cell_type": "code",
   "execution_count": 8,
   "id": "b69bf1e0",
   "metadata": {},
   "outputs": [
    {
     "data": {
      "text/plain": [
       "[' Credit Risk', ' Supply Risk']"
      ]
     },
     "execution_count": 8,
     "metadata": {},
     "output_type": "execute_result"
    }
   ],
   "source": [
    "risk_type"
   ]
  },
  {
   "cell_type": "markdown",
   "id": "7e3c5ef2",
   "metadata": {},
   "source": [
    "# 3. Companies in europe reports their financial numbers of semi annual basis and you can have a document like this. To exatract quarterly and semin annual period you can use a regex as shown below"
   ]
  },
  {
   "cell_type": "raw",
   "id": "394fb09f",
   "metadata": {},
   "source": [
    "Hint: you need to use (?:) here to match everything enclosed"
   ]
  },
  {
   "cell_type": "code",
   "execution_count": null,
   "id": "c7154969",
   "metadata": {},
   "outputs": [],
   "source": [
    "# Method One"
   ]
  },
  {
   "cell_type": "code",
   "execution_count": 9,
   "id": "2941c5f8",
   "metadata": {},
   "outputs": [
    {
     "data": {
      "text/plain": [
       "['FY2021 Q1', 'FY2021 S1']"
      ]
     },
     "execution_count": 9,
     "metadata": {},
     "output_type": "execute_result"
    }
   ],
   "source": [
    "text = '''\n",
    "Tesla's gross cost of operating lease vehicles in FY2021 Q1 was $4.85 billion.\n",
    "BMW's gross cost of operating vehicles in FY2021 S1 was $8 billion.\n",
    "'''\n",
    "\n",
    "pattern = 'FY\\d{4} .\\d' # todo: type your regex here\n",
    "matches = re.findall(pattern, text)\n",
    "matches"
   ]
  },
  {
   "cell_type": "code",
   "execution_count": 13,
   "id": "29564960",
   "metadata": {},
   "outputs": [],
   "source": [
    "# Method Two"
   ]
  },
  {
   "cell_type": "code",
   "execution_count": 12,
   "id": "ace66a40",
   "metadata": {},
   "outputs": [
    {
     "data": {
      "text/plain": [
       "['2021 Q1', '2021 S1']"
      ]
     },
     "execution_count": 12,
     "metadata": {},
     "output_type": "execute_result"
    }
   ],
   "source": [
    "text = '''\n",
    "Tesla's gross cost of operating lease vehicles in FY2021 Q1 was $4.85 billion.\n",
    "BMW's gross cost of operating vehicles in FY2021 S1 was $8 billion.\n",
    "'''\n",
    "\n",
    "pattern = '\\d{4} .\\d' # todo: type your regex here\n",
    "matches = re.findall(pattern, text)\n",
    "matches"
   ]
  },
  {
   "cell_type": "code",
   "execution_count": 15,
   "id": "bd7719e6",
   "metadata": {},
   "outputs": [],
   "source": [
    "# Method Three"
   ]
  },
  {
   "cell_type": "code",
   "execution_count": 16,
   "id": "1701ef5a",
   "metadata": {},
   "outputs": [
    {
     "data": {
      "text/plain": [
       "['2021 Q1', '2021 S1']"
      ]
     },
     "execution_count": 16,
     "metadata": {},
     "output_type": "execute_result"
    }
   ],
   "source": [
    "text = '''\n",
    "Tesla's gross cost of operating lease vehicles in FY2021 Q1 was $4.85 billion.\n",
    "BMW's gross cost of operating vehicles in FY2021 S1 was $8 billion.\n",
    "'''\n",
    "\n",
    "pattern = 'FY(\\d{4} (?:Q\\d|S\\d))' # todo: type your regex here\n",
    "matches = re.findall(pattern, text)\n",
    "matches"
   ]
  },
  {
   "cell_type": "code",
   "execution_count": 21,
   "id": "d7e15501",
   "metadata": {},
   "outputs": [],
   "source": [
    "# Extracting Urls"
   ]
  },
  {
   "cell_type": "code",
   "execution_count": 22,
   "id": "81b36972",
   "metadata": {},
   "outputs": [
    {
     "data": {
      "text/plain": [
       "['elonmusk', 'teslarati', 'dummy_tesla', 'dummy_2_tesla']"
      ]
     },
     "execution_count": 22,
     "metadata": {},
     "output_type": "execute_result"
    }
   ],
   "source": [
    "text = '''\n",
    "Follow our leader Elon musk on twitter here: https://twitter.com/elonmusk, more information \n",
    "on Tesla's products can be found at https://www.tesla.com/. Also here are leading influencers \n",
    "for tesla related news,\n",
    "https://twitter.com/teslarati\n",
    "https://twitter.com/dummy_tesla\n",
    "https://twitter.com/dummy_2_tesla\n",
    "'''\n",
    "pattern = 'https://twitter\\.com/([a-zA-Z0-9_]+)' # todo: type your regex here\n",
    "\n",
    "re.findall(pattern, text)"
   ]
  },
  {
   "cell_type": "code",
   "execution_count": 23,
   "id": "881527fa",
   "metadata": {},
   "outputs": [],
   "source": [
    "# Method Two"
   ]
  },
  {
   "cell_type": "code",
   "execution_count": 24,
   "id": "0aa9529e",
   "metadata": {},
   "outputs": [
    {
     "data": {
      "text/plain": [
       "['elonmusk', 'teslarati', 'dummy_tesla', 'dummy_2_tesla']"
      ]
     },
     "execution_count": 24,
     "metadata": {},
     "output_type": "execute_result"
    }
   ],
   "source": [
    "text = '''\n",
    "Follow our leader Elon musk on twitter here: https://twitter.com/elonmusk, more information \n",
    "on Tesla's products can be found at https://www.tesla.com/. Also here are leading influencers \n",
    "for tesla related news,\n",
    "https://twitter.com/teslarati\n",
    "https://twitter.com/dummy_tesla\n",
    "https://twitter.com/dummy_2_tesla\n",
    "'''\n",
    "pattern = 'https:\\S{2}twitter.com\\S([a-zA-Z0-9_]+)' # todo: type your regex here\n",
    "\n",
    "re.findall(pattern, text)"
   ]
  },
  {
   "cell_type": "code",
   "execution_count": null,
   "id": "2553bc40",
   "metadata": {},
   "outputs": [],
   "source": []
  }
 ],
 "metadata": {
  "kernelspec": {
   "display_name": "Python 3 (ipykernel)",
   "language": "python",
   "name": "python3"
  },
  "language_info": {
   "codemirror_mode": {
    "name": "ipython",
    "version": 3
   },
   "file_extension": ".py",
   "mimetype": "text/x-python",
   "name": "python",
   "nbconvert_exporter": "python",
   "pygments_lexer": "ipython3",
   "version": "3.9.12"
  }
 },
 "nbformat": 4,
 "nbformat_minor": 5
}
