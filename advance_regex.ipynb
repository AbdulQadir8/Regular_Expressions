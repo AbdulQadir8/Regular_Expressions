{
 "cells": [
  {
   "cell_type": "markdown",
   "id": "4ced25dd",
   "metadata": {},
   "source": [
    "# Retrieve email id and phone"
   ]
  },
  {
   "cell_type": "code",
   "execution_count": 2,
   "id": "da58a473",
   "metadata": {},
   "outputs": [],
   "source": [
    "import re"
   ]
  },
  {
   "cell_type": "code",
   "execution_count": 1,
   "id": "3004e6aa",
   "metadata": {},
   "outputs": [],
   "source": [
    "chat1 = 'codebasics: you ask lot of questions 😠  1235678912, abc@xyz.com'\n",
    "chat2 = 'codebasics: here it is: (123)-567-8912, abc@xyz.com'\n",
    "chat3 = 'codebasics: yes, phone: 1235678912 email: abc@xyz.com'"
   ]
  },
  {
   "cell_type": "code",
   "execution_count": 15,
   "id": "a491cced",
   "metadata": {},
   "outputs": [
    {
     "data": {
      "text/plain": [
       "['1235678912']"
      ]
     },
     "execution_count": 15,
     "metadata": {},
     "output_type": "execute_result"
    }
   ],
   "source": [
    "# numbers = re.findall('\\d\\d\\d\\d\\d\\d\\d\\d\\d\\d',chat1) #First method\n",
    "numbers = re.findall('\\d{10}',chat1) #Second Method\n",
    "numbers"
   ]
  },
  {
   "cell_type": "code",
   "execution_count": 13,
   "id": "2492038f",
   "metadata": {},
   "outputs": [
    {
     "data": {
      "text/plain": [
       "[]"
      ]
     },
     "execution_count": 13,
     "metadata": {},
     "output_type": "execute_result"
    }
   ],
   "source": [
    "numbers2 = re.findall('\\d{10}',chat2)\n",
    "numbers2"
   ]
  },
  {
   "cell_type": "code",
   "execution_count": 14,
   "id": "5bd4c134",
   "metadata": {},
   "outputs": [
    {
     "data": {
      "text/plain": [
       "['1235678912']"
      ]
     },
     "execution_count": 14,
     "metadata": {},
     "output_type": "execute_result"
    }
   ],
   "source": [
    "numbers3 = re.findall('\\d{10}',chat3)\n",
    "numbers3"
   ]
  },
  {
   "cell_type": "code",
   "execution_count": 16,
   "id": "8ce086ef",
   "metadata": {},
   "outputs": [],
   "source": [
    "#Now how to match second number (with brackets)"
   ]
  },
  {
   "cell_type": "code",
   "execution_count": 17,
   "id": "76f1ce2c",
   "metadata": {},
   "outputs": [
    {
     "data": {
      "text/plain": [
       "['(123)-567-8912']"
      ]
     },
     "execution_count": 17,
     "metadata": {},
     "output_type": "execute_result"
    }
   ],
   "source": [
    "chat2 = 'codebasics: here it is: (123)-567-8912, abc@xyz.com'\n",
    "\n",
    "numbers2 = re.findall('\\(\\d{3}\\)-\\d{3}-\\d{4}',chat2)\n",
    "numbers2"
   ]
  },
  {
   "cell_type": "code",
   "execution_count": 18,
   "id": "35acaf66",
   "metadata": {},
   "outputs": [],
   "source": [
    "# Retrieve All three numbers with one method"
   ]
  },
  {
   "cell_type": "code",
   "execution_count": 19,
   "id": "8d5caec1",
   "metadata": {},
   "outputs": [],
   "source": [
    "chat1 = 'codebasics: you ask lot of questions 😠  1235678912, abc@xyz.com'\n",
    "chat2 = 'codebasics: here it is: (123)-567-8912, abc@xyz.com'\n",
    "chat3 = 'codebasics: yes, phone: 1235678912 email: abc@xyz.com'"
   ]
  },
  {
   "cell_type": "code",
   "execution_count": 20,
   "id": "eeebe6e7",
   "metadata": {},
   "outputs": [],
   "source": [
    "pattern = '\\d{10}|\\(\\d{3}\\)-\\d{3}-\\d{4}'"
   ]
  },
  {
   "cell_type": "code",
   "execution_count": 22,
   "id": "7c0c5324",
   "metadata": {},
   "outputs": [
    {
     "data": {
      "text/plain": [
       "['1235678912']"
      ]
     },
     "execution_count": 22,
     "metadata": {},
     "output_type": "execute_result"
    }
   ],
   "source": [
    "re.findall(pattern,chat1)"
   ]
  },
  {
   "cell_type": "code",
   "execution_count": 23,
   "id": "d46961c3",
   "metadata": {},
   "outputs": [
    {
     "data": {
      "text/plain": [
       "['(123)-567-8912']"
      ]
     },
     "execution_count": 23,
     "metadata": {},
     "output_type": "execute_result"
    }
   ],
   "source": [
    "re.findall(pattern,chat2)"
   ]
  },
  {
   "cell_type": "code",
   "execution_count": 24,
   "id": "39d52527",
   "metadata": {},
   "outputs": [
    {
     "data": {
      "text/plain": [
       "['1235678912']"
      ]
     },
     "execution_count": 24,
     "metadata": {},
     "output_type": "execute_result"
    }
   ],
   "source": [
    "re.findall(pattern,chat3)"
   ]
  },
  {
   "cell_type": "markdown",
   "id": "7ca3c065",
   "metadata": {},
   "source": [
    "# Retrieving different types of emails"
   ]
  },
  {
   "cell_type": "code",
   "execution_count": 29,
   "id": "7e301766",
   "metadata": {},
   "outputs": [],
   "source": [
    "chat = \"\"\"codebasics: you ask lot of questions 😠  1235678912, abcA@xyz.com\n",
    "          codebasics: here it is: (123)-567-8912, abc_23F@xyz.com \n",
    "          codebasics: yes, phone: 1235678912 email: abc@xyz.com \"\"\""
   ]
  },
  {
   "cell_type": "code",
   "execution_count": 32,
   "id": "ad04a567",
   "metadata": {},
   "outputs": [],
   "source": [
    "pattern = \"[a-zA-Z0-9_]*@[a-z]*\\.[a-z]*\""
   ]
  },
  {
   "cell_type": "code",
   "execution_count": 34,
   "id": "550eecd0",
   "metadata": {},
   "outputs": [],
   "source": [
    "email = re.findall(pattern,chat)"
   ]
  },
  {
   "cell_type": "code",
   "execution_count": 38,
   "id": "7e013f7a",
   "metadata": {},
   "outputs": [
    {
     "data": {
      "text/plain": [
       "'abcA@xyz.com'"
      ]
     },
     "execution_count": 38,
     "metadata": {},
     "output_type": "execute_result"
    }
   ],
   "source": [
    "email[0]"
   ]
  },
  {
   "cell_type": "markdown",
   "id": "5bae04b9",
   "metadata": {},
   "source": [
    "# Retrieving Order Number"
   ]
  },
  {
   "cell_type": "code",
   "execution_count": 44,
   "id": "e54e860e",
   "metadata": {},
   "outputs": [],
   "source": [
    "chat1='codebasics: Hello, I am having an issue with my order # 412889912'\n",
    "chat2='codebasics: I have a problem with my order number 412889912'\n",
    "chat3='codebasics: My order 412889912 is having an issue, I was charged 300$ when online it says 280$'"
   ]
  },
  {
   "cell_type": "code",
   "execution_count": 45,
   "id": "de22b6c9",
   "metadata": {},
   "outputs": [],
   "source": [
    "pattern = \"order[^\\d]*\\d*\""
   ]
  },
  {
   "cell_type": "code",
   "execution_count": 46,
   "id": "d3e0b45e",
   "metadata": {},
   "outputs": [
    {
     "data": {
      "text/plain": [
       "['order # 412889912']"
      ]
     },
     "execution_count": 46,
     "metadata": {},
     "output_type": "execute_result"
    }
   ],
   "source": [
    "ordernumber = re.findall(pattern,chat1)\n",
    "ordernumber"
   ]
  },
  {
   "cell_type": "code",
   "execution_count": 47,
   "id": "23db461b",
   "metadata": {},
   "outputs": [
    {
     "data": {
      "text/plain": [
       "['order number 412889912']"
      ]
     },
     "execution_count": 47,
     "metadata": {},
     "output_type": "execute_result"
    }
   ],
   "source": [
    "ordernumber2 = re.findall(pattern,chat2)\n",
    "ordernumber2"
   ]
  },
  {
   "cell_type": "code",
   "execution_count": 48,
   "id": "31d18f27",
   "metadata": {},
   "outputs": [
    {
     "data": {
      "text/plain": [
       "['order 412889912']"
      ]
     },
     "execution_count": 48,
     "metadata": {},
     "output_type": "execute_result"
    }
   ],
   "source": [
    "ordernumber2 = re.findall(pattern,chat3)\n",
    "ordernumber2"
   ]
  },
  {
   "cell_type": "code",
   "execution_count": 49,
   "id": "f9c5d41c",
   "metadata": {},
   "outputs": [],
   "source": [
    "# 2nd Method "
   ]
  },
  {
   "cell_type": "code",
   "execution_count": 53,
   "id": "b756ce2a",
   "metadata": {},
   "outputs": [],
   "source": [
    "pattern2 = \"order[^\\d]*(\\d*)\""
   ]
  },
  {
   "cell_type": "code",
   "execution_count": 54,
   "id": "ae7de265",
   "metadata": {},
   "outputs": [
    {
     "data": {
      "text/plain": [
       "['412889912']"
      ]
     },
     "execution_count": 54,
     "metadata": {},
     "output_type": "execute_result"
    }
   ],
   "source": [
    "ordernumber = re.findall(pattern2,chat1)\n",
    "ordernumber"
   ]
  },
  {
   "cell_type": "code",
   "execution_count": 55,
   "id": "be382037",
   "metadata": {},
   "outputs": [
    {
     "data": {
      "text/plain": [
       "['412889912']"
      ]
     },
     "execution_count": 55,
     "metadata": {},
     "output_type": "execute_result"
    }
   ],
   "source": [
    "ordernumber = re.findall(pattern2,chat2)\n",
    "ordernumber"
   ]
  },
  {
   "cell_type": "code",
   "execution_count": 56,
   "id": "d05ac868",
   "metadata": {},
   "outputs": [
    {
     "data": {
      "text/plain": [
       "['412889912']"
      ]
     },
     "execution_count": 56,
     "metadata": {},
     "output_type": "execute_result"
    }
   ],
   "source": [
    "ordernumber = re.findall(pattern2,chat3)\n",
    "ordernumber"
   ]
  },
  {
   "cell_type": "markdown",
   "id": "7f4180e1",
   "metadata": {},
   "source": [
    "# Celebriteis Information Retrievel"
   ]
  },
  {
   "cell_type": "code",
   "execution_count": 76,
   "id": "40c3b2a2",
   "metadata": {},
   "outputs": [],
   "source": [
    "text =  \"\"\"\n",
    "   Born\tElon Reeve Musk\n",
    "June 28, 1971 (age 51)\n",
    "Pretoria, Transvaal, South Africa\n",
    "Education\tUniversity of Pennsylvania (BA, BS)\n",
    "Title\t\n",
    "Founder, CEO and chief engineer of SpaceX\n",
    "CEO and product architect of Tesla, Inc.\n",
    "Owner and CEO of Twitter\n",
    "President of the Musk Foundation\n",
    "Founder of the Boring Company, X Corp. and X.AI\n",
    "Co-founder of Neuralink, OpenAI, Zip2 and X.com (part of PayPal)\n",
    "Spouses\t\n",
    "Justine Wilson\n",
    "   \"\"\""
   ]
  },
  {
   "cell_type": "code",
   "execution_count": 129,
   "id": "95a58856",
   "metadata": {},
   "outputs": [],
   "source": [
    "pattern = \"age \\d+\""
   ]
  },
  {
   "cell_type": "code",
   "execution_count": 130,
   "id": "7eb737f9",
   "metadata": {},
   "outputs": [
    {
     "data": {
      "text/plain": [
       "['age 51']"
      ]
     },
     "execution_count": 130,
     "metadata": {},
     "output_type": "execute_result"
    }
   ],
   "source": [
    "re.findall(pattern,text)"
   ]
  },
  {
   "cell_type": "code",
   "execution_count": 84,
   "id": "6510cece",
   "metadata": {},
   "outputs": [],
   "source": [
    "#method 2\n",
    "pattern2 = \"age (\\d+)\"\""
   ]
  },
  {
   "cell_type": "code",
   "execution_count": 85,
   "id": "d2e8255b",
   "metadata": {},
   "outputs": [
    {
     "data": {
      "text/plain": [
       "[]"
      ]
     },
     "execution_count": 85,
     "metadata": {},
     "output_type": "execute_result"
    }
   ],
   "source": [
    "re.findall(pattern2,text)"
   ]
  },
  {
   "cell_type": "code",
   "execution_count": 88,
   "id": "a8a0ebb5",
   "metadata": {},
   "outputs": [],
   "source": [
    "patternname = \"Born(.*)\\n\""
   ]
  },
  {
   "cell_type": "code",
   "execution_count": 92,
   "id": "3b333eab",
   "metadata": {},
   "outputs": [],
   "source": [
    "name = re.findall(patternname,text)"
   ]
  },
  {
   "cell_type": "code",
   "execution_count": 98,
   "id": "4ffd0ef8",
   "metadata": {},
   "outputs": [
    {
     "data": {
      "text/plain": [
       "'Elon Reeve Musk'"
      ]
     },
     "execution_count": 98,
     "metadata": {},
     "output_type": "execute_result"
    }
   ],
   "source": [
    "name[0].strip()"
   ]
  },
  {
   "cell_type": "code",
   "execution_count": 99,
   "id": "eacd98ac",
   "metadata": {},
   "outputs": [],
   "source": [
    "#Get the Birth Date"
   ]
  },
  {
   "cell_type": "code",
   "execution_count": 100,
   "id": "18302c24",
   "metadata": {},
   "outputs": [],
   "source": [
    "patternname = \"Born.+\\n(.*)\\(age\""
   ]
  },
  {
   "cell_type": "code",
   "execution_count": 102,
   "id": "b8bda6dd",
   "metadata": {},
   "outputs": [],
   "source": [
    "birth_date = re.findall(patternname,text)"
   ]
  },
  {
   "cell_type": "code",
   "execution_count": 106,
   "id": "9fb20d83",
   "metadata": {},
   "outputs": [
    {
     "data": {
      "text/plain": [
       "'June 28, 1971'"
      ]
     },
     "execution_count": 106,
     "metadata": {},
     "output_type": "execute_result"
    }
   ],
   "source": [
    "birth_date[0].strip()"
   ]
  },
  {
   "cell_type": "code",
   "execution_count": 107,
   "id": "b3b7f347",
   "metadata": {},
   "outputs": [],
   "source": [
    "# Get the Birth Place"
   ]
  },
  {
   "cell_type": "code",
   "execution_count": 120,
   "id": "850d8c3f",
   "metadata": {},
   "outputs": [],
   "source": [
    "pattern = '\\(age.*\\n(.*)'"
   ]
  },
  {
   "cell_type": "code",
   "execution_count": 121,
   "id": "76d84698",
   "metadata": {},
   "outputs": [],
   "source": [
    "birth_place = re.findall(pattern,text)"
   ]
  },
  {
   "cell_type": "code",
   "execution_count": 125,
   "id": "c7d8164a",
   "metadata": {},
   "outputs": [
    {
     "data": {
      "text/plain": [
       "'Pretoria, Transvaal, South Africa'"
      ]
     },
     "execution_count": 125,
     "metadata": {},
     "output_type": "execute_result"
    }
   ],
   "source": [
    "birth_place[0]"
   ]
  },
  {
   "cell_type": "code",
   "execution_count": 126,
   "id": "1dd6c168",
   "metadata": {},
   "outputs": [],
   "source": [
    "def get_pattern_match(pattern,text):\n",
    "    matches = re.findall(pattern,text)\n",
    "    if matches:\n",
    "        return matches[0]"
   ]
  },
  {
   "cell_type": "code",
   "execution_count": 127,
   "id": "b092ef26",
   "metadata": {},
   "outputs": [
    {
     "data": {
      "text/plain": [
       "'Pretoria, Transvaal, South Africa'"
      ]
     },
     "execution_count": 127,
     "metadata": {},
     "output_type": "execute_result"
    }
   ],
   "source": [
    "get_pattern_match('\\(age.*\\n(.*)',text)"
   ]
  },
  {
   "cell_type": "code",
   "execution_count": 142,
   "id": "200e36f9",
   "metadata": {},
   "outputs": [],
   "source": [
    "def get_personal_information(text):\n",
    "    name = re.findall(\"Born(.*)\\n\",text)\n",
    "    age = re.findall(\"age \\d+\",text)\n",
    "    birth_date = re.findall(\"Born.+\\n(.*)\\(age\",text)\n",
    "    birth_place = re.findall('\\(age.*\\n(.*)',text)\n",
    "    \n",
    "    return {\n",
    "        \"age\": age[0],\n",
    "        \"name\": name[0].strip(),\n",
    "        \"birth_date\": birth_date[0].strip(),\n",
    "        \"birth_place\": birth_place[0].strip()\n",
    "    }"
   ]
  },
  {
   "cell_type": "code",
   "execution_count": 143,
   "id": "6afc4b1c",
   "metadata": {},
   "outputs": [
    {
     "data": {
      "text/plain": [
       "{'age': 'age 51',\n",
       " 'name': 'Elon Reeve Musk',\n",
       " 'birth_date': 'June 28, 1971',\n",
       " 'birth_place': 'Pretoria, Transvaal, South Africa'}"
      ]
     },
     "execution_count": 143,
     "metadata": {},
     "output_type": "execute_result"
    }
   ],
   "source": [
    "get_personal_information(text)"
   ]
  },
  {
   "cell_type": "code",
   "execution_count": 144,
   "id": "eda48282",
   "metadata": {},
   "outputs": [],
   "source": [
    "text2 = \"\"\"\n",
    "Born\tMukesh Dhirubhai Ambani\n",
    "19 April 1957 (age 66)\n",
    "Aden, Colony of Aden\n",
    "(present-day Yemen)[1][2]\n",
    "Nationality\tIndian\n",
    "Alma mater\t\n",
    "St. Xavier's College, Mumbai\n",
    "Institute of Chemical Technology (B.E.)\n",
    "Occupation(s)\tChairman and MD, Reliance Industries\n",
    "Spouse\tNita Ambani ​(m. 1985)​[3]\n",
    "Children\t3\n",
    "Parent\t\n",
    "Dhirubhai Ambani (father)\n",
    "\"\"\"\n"
   ]
  },
  {
   "cell_type": "code",
   "execution_count": 145,
   "id": "e886ddfc",
   "metadata": {},
   "outputs": [
    {
     "data": {
      "text/plain": [
       "{'age': 'age 66',\n",
       " 'name': 'Mukesh Dhirubhai Ambani',\n",
       " 'birth_date': '19 April 1957',\n",
       " 'birth_place': 'Aden, Colony of Aden'}"
      ]
     },
     "execution_count": 145,
     "metadata": {},
     "output_type": "execute_result"
    }
   ],
   "source": [
    "get_personal_information(text2)"
   ]
  },
  {
   "cell_type": "code",
   "execution_count": null,
   "id": "6d37a03e",
   "metadata": {},
   "outputs": [],
   "source": []
  }
 ],
 "metadata": {
  "kernelspec": {
   "display_name": "Python 3 (ipykernel)",
   "language": "python",
   "name": "python3"
  },
  "language_info": {
   "codemirror_mode": {
    "name": "ipython",
    "version": 3
   },
   "file_extension": ".py",
   "mimetype": "text/x-python",
   "name": "python",
   "nbconvert_exporter": "python",
   "pygments_lexer": "ipython3",
   "version": "3.9.12"
  }
 },
 "nbformat": 4,
 "nbformat_minor": 5
}
